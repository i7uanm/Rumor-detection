{
 "cells": [
  {
   "cell_type": "code",
   "execution_count": 3,
   "metadata": {},
   "outputs": [
    {
     "name": "stdout",
     "output_type": "stream",
     "text": [
      "Total sentences: 3387\n",
      "Maximum sentence length: 226\n",
      "Minimum sentence length: 3\n",
      "Average sentence length: 109.27\n",
      "Median sentence length: 128.00\n"
     ]
    }
   ],
   "source": [
    "def calculate_sentence_statistics(file_path):\n",
    "    sentence_lengths = []\n",
    "\n",
    "    # 读取文件并逐行处理\n",
    "    with open(file_path, 'r', encoding='utf-8') as file:\n",
    "        for line in file:\n",
    "            # 分割label和sentence\n",
    "            label, sentence = line.strip().split('\\t')\n",
    "\n",
    "            # 计算句子长度并添加到列表中\n",
    "            sentence_length = len(sentence)\n",
    "            sentence_lengths.append(sentence_length)\n",
    "\n",
    "    # 统计信息\n",
    "    total_sentences = len(sentence_lengths)\n",
    "    max_length = max(sentence_lengths)\n",
    "    min_length = min(sentence_lengths)\n",
    "    average_length = sum(sentence_lengths) / total_sentences\n",
    "\n",
    "    # 计算中位数\n",
    "    sorted_lengths = sorted(sentence_lengths)\n",
    "    if total_sentences % 2 == 0:\n",
    "        median_length = (sorted_lengths[total_sentences // 2 - 1] + sorted_lengths[total_sentences // 2]) / 2\n",
    "    else:\n",
    "        median_length = sorted_lengths[total_sentences // 2]\n",
    "\n",
    "    # 打印结果\n",
    "    print(f\"Total sentences: {total_sentences}\")\n",
    "    print(f\"Maximum sentence length: {max_length}\")\n",
    "    print(f\"Minimum sentence length: {min_length}\")\n",
    "    print(f\"Average sentence length: {average_length:.2f}\")\n",
    "    print(f\"Median sentence length: {median_length:.2f}\")\n",
    "\n",
    "# 调用函数并传入文件路径\n",
    "calculate_sentence_statistics('all_data.txt')\n"
   ]
  }
 ],
 "metadata": {
  "kernelspec": {
   "display_name": "Python 3",
   "language": "python",
   "name": "python3"
  },
  "language_info": {
   "codemirror_mode": {
    "name": "ipython",
    "version": 3
   },
   "file_extension": ".py",
   "mimetype": "text/x-python",
   "name": "python",
   "nbconvert_exporter": "python",
   "pygments_lexer": "ipython3",
   "version": "3.10.8"
  }
 },
 "nbformat": 4,
 "nbformat_minor": 2
}
